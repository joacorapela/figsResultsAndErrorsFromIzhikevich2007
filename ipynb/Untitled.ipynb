{
 "cells": [
  {
   "cell_type": "markdown",
   "metadata": {},
   "source": [
    "## Import required packages"
   ]
  },
  {
   "cell_type": "code",
   "execution_count": 1,
   "metadata": {},
   "outputs": [],
   "source": [
    "import numpy as np\n",
    "import matplotlib.pyplot as plt\n"
   ]
  },
  {
   "cell_type": "markdown",
   "metadata": {},
   "source": [
    "## Define constants"
   ]
  },
  {
   "cell_type": "code",
   "execution_count": 4,
   "metadata": {},
   "outputs": [],
   "source": [
    "EL = -80\n",
    "gL = 8\n",
    "gNa = 20\n",
    "gK = 10\n",
    "VoneHalf_m = -20\n",
    "k_m = 15\n",
    "VoneHalf_n = -25\n",
    "k_n = 5\n",
    "ENa = 60\n",
    "EK = -90\n",
    "figFilename = 'figures/fig4-1a.eps'"
   ]
  },
  {
   "cell_type": "markdown",
   "metadata": {},
   "source": [
    "## Calculate steady-state voltage and currents"
   ]
  },
  {
   "cell_type": "code",
   "execution_count": 7,
   "metadata": {},
   "outputs": [],
   "source": [
    "vs = np.arange(-100, 60, 0.01)                                    \n",
    "ILs = gL*(vs-EL)\n",
    "mInf = 1.0/(1+np.exp((VoneHalf_m-vs)/k_m))\n",
    "INaps = gNa*mInf*(vs-ENa)\n",
    "nInf = 1.0/(1+np.exp((VoneHalf_n-vs)/k_n))\n",
    "IKs = gK*nInf*(vs-EK)\n",
    "ITs = ILs+INaps+IKs"
   ]
  },
  {
   "cell_type": "markdown",
   "metadata": {},
   "source": [
    "## Make plots"
   ]
  },
  {
   "cell_type": "code",
   "execution_count": null,
   "metadata": {},
   "outputs": [],
   "source": [
    "%matplotlib-notebook\n",
    "plt.plot(vs, ILs, label=\"IL\")\n",
    "plt.plot(vs, INaps, label=\"INap\")\n",
    "plt.plot(vs, IKs, label=\"IK\")\n",
    "plt.plot(vs, ITs, label=\"I\")\n",
    "plt.ylim((-200, 200))\n",
    "plt.axhline()\n",
    "plt.xlabel(\"V (mV)\")\n",
    "plt.ylabel(\"Current (pA)\")\n",
    "plt.legend()\n",
    "plt.savefig(figFilename)"
   ]
  }
 ],
 "metadata": {
  "kernelspec": {
   "display_name": "Python 3",
   "language": "python",
   "name": "python3"
  },
  "language_info": {
   "codemirror_mode": {
    "name": "ipython",
    "version": 3
   },
   "file_extension": ".py",
   "mimetype": "text/x-python",
   "name": "python",
   "nbconvert_exporter": "python",
   "pygments_lexer": "ipython3",
   "version": "3.6.9"
  }
 },
 "nbformat": 4,
 "nbformat_minor": 2
}
